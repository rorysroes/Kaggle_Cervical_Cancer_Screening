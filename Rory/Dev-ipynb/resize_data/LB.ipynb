{
 "cells": [
  {
   "cell_type": "code",
   "execution_count": 1,
   "metadata": {
    "collapsed": false
   },
   "outputs": [
    {
     "name": "stderr",
     "output_type": "stream",
     "text": [
      "Using TensorFlow backend.\n"
     ]
    }
   ],
   "source": [
    "import os\n",
    "import cv2\n",
    "import glob\n",
    "from glob import glob\n",
    "import math\n",
    "import numpy as np\n",
    "import pandas as pd\n",
    "import tensorflow as tf\n",
    "from matplotlib import pyplot\n",
    "import matplotlib.pyplot\n",
    "import matplotlib.pyplot as plt\n",
    "from sklearn.preprocessing import LabelEncoder\n",
    "from multiprocessing import Pool, cpu_count\n",
    "from PIL import ImageFilter, ImageStat, Image, ImageDraw\n",
    "from IPython.display import display\n",
    "import keras"
   ]
  },
  {
   "cell_type": "code",
   "execution_count": 2,
   "metadata": {
    "collapsed": true
   },
   "outputs": [],
   "source": [
    "def show(X):\n",
    "    display(Image.fromarray(X))\n",
    "    \n",
    "def im_multi(path):\n",
    "    try:\n",
    "        #print(path)\n",
    "        im_stats_im_ = cv2.imread(path)\n",
    "        #print(im_stats_im_.size)\n",
    "        return [path, {'size': im_stats_im_.size}]\n",
    "    except:\n",
    "        print(\"Error path:%s\"%(path))\n",
    "        return [path, {'size': [0, 0]}]\n",
    "    \n",
    "def im_stats(im_stats_df):\n",
    "    im_stats_d = {}\n",
    "    p = Pool(cpu_count())\n",
    "    ret = p.map(im_multi, im_stats_df['path'])\n",
    "    for i in range(len(ret)):\n",
    "        im_stats_d[ret[i][0]] = ret[i][1]\n",
    "    im_stats_df['size'] = im_stats_df['path'].map(lambda x: ' '.join([str(s) for s in str(im_stats_d[x]['size'])]))\n",
    "    return im_stats_df\n",
    "\n",
    "def get_im_cv2(args):\n",
    "    img = cv2.imread(args[0])\n",
    "    resized = cv2.resize(img, (args[1], args[1]), cv2.INTER_LINEAR)\n",
    "    return [args[0], resized]\n",
    "\n",
    "def image_features(paths, dim):\n",
    "    imf_d = {}\n",
    "    p = Pool(cpu_count())\n",
    "    dims = [dim for i in range(len(paths.tolist()))]\n",
    "    params = list(zip(paths.tolist(), dims))\n",
    "    ret = p.map(get_im_cv2, params)\n",
    "    for i in range(len(ret)):\n",
    "        imf_d[ret[i][0]] = ret[i][1]\n",
    "    ret = []\n",
    "    fdata = [imf_d[f] for f in paths]\n",
    "    fdata = np.array(fdata, dtype = np.uint8)\n",
    "    return fdata"
   ]
  },
  {
   "cell_type": "code",
   "execution_count": 3,
   "metadata": {
    "collapsed": true
   },
   "outputs": [],
   "source": [
    "all_cervix_images = []\n",
    "\n",
    "basepath = '/home/dataset/train/'\n",
    "for path in sorted(glob(basepath + \"*\")):\n",
    "    #print(path)\n",
    "    cervix_type = path.split(\"/\")[-1]\n",
    "    #print(cervix_type)\n",
    "    cervix_images = sorted(glob(basepath + cervix_type + \"/*\"))\n",
    "    #print(cervix_images)\n",
    "    all_cervix_images = all_cervix_images + cervix_images\n",
    "\n",
    "basepath = '/home/dataset/Type_'\n",
    "for path in sorted(glob(basepath + \"*\")):\n",
    "    #print(path)\n",
    "    cervix_type = path.split(\"/\")[-1][-1]\n",
    "    #print(cervix_type)\n",
    "    cervix_images = sorted(glob(basepath + cervix_type + \"/*\"))\n",
    "    #print(cervix_images)\n",
    "    all_cervix_images = all_cervix_images + cervix_images"
   ]
  },
  {
   "cell_type": "code",
   "execution_count": 4,
   "metadata": {
    "collapsed": false,
    "scrolled": true
   },
   "outputs": [
    {
     "data": {
      "text/html": [
       "<div>\n",
       "<table border=\"1\" class=\"dataframe\">\n",
       "  <thead>\n",
       "    <tr style=\"text-align: right;\">\n",
       "      <th></th>\n",
       "      <th>imagepath</th>\n",
       "      <th>filetype</th>\n",
       "      <th>type</th>\n",
       "    </tr>\n",
       "  </thead>\n",
       "  <tbody>\n",
       "    <tr>\n",
       "      <th>0</th>\n",
       "      <td>/home/dataset/train/Type_1/0.jpg</td>\n",
       "      <td>jpg</td>\n",
       "      <td>Type_1</td>\n",
       "    </tr>\n",
       "    <tr>\n",
       "      <th>1</th>\n",
       "      <td>/home/dataset/train/Type_1/10.jpg</td>\n",
       "      <td>jpg</td>\n",
       "      <td>Type_1</td>\n",
       "    </tr>\n",
       "    <tr>\n",
       "      <th>2</th>\n",
       "      <td>/home/dataset/train/Type_1/1013.jpg</td>\n",
       "      <td>jpg</td>\n",
       "      <td>Type_1</td>\n",
       "    </tr>\n",
       "    <tr>\n",
       "      <th>3</th>\n",
       "      <td>/home/dataset/train/Type_1/1014.jpg</td>\n",
       "      <td>jpg</td>\n",
       "      <td>Type_1</td>\n",
       "    </tr>\n",
       "    <tr>\n",
       "      <th>4</th>\n",
       "      <td>/home/dataset/train/Type_1/1019.jpg</td>\n",
       "      <td>jpg</td>\n",
       "      <td>Type_1</td>\n",
       "    </tr>\n",
       "  </tbody>\n",
       "</table>\n",
       "</div>"
      ],
      "text/plain": [
       "                             imagepath filetype    type\n",
       "0     /home/dataset/train/Type_1/0.jpg      jpg  Type_1\n",
       "1    /home/dataset/train/Type_1/10.jpg      jpg  Type_1\n",
       "2  /home/dataset/train/Type_1/1013.jpg      jpg  Type_1\n",
       "3  /home/dataset/train/Type_1/1014.jpg      jpg  Type_1\n",
       "4  /home/dataset/train/Type_1/1019.jpg      jpg  Type_1"
      ]
     },
     "execution_count": 4,
     "metadata": {},
     "output_type": "execute_result"
    }
   ],
   "source": [
    "all_cervix_images = pd.DataFrame({'imagepath': all_cervix_images})\n",
    "all_cervix_images['filetype'] = all_cervix_images.apply(lambda row: row.imagepath.split(\".\")[-1], axis=1)\n",
    "all_cervix_images['type'] = all_cervix_images.apply(lambda row: row.imagepath.split(\"/\")[-2], axis=1)\n",
    "all_cervix_images.head()"
   ]
  },
  {
   "cell_type": "code",
   "execution_count": 5,
   "metadata": {
    "collapsed": false
   },
   "outputs": [
    {
     "data": {
      "text/html": [
       "<div>\n",
       "<table border=\"1\" class=\"dataframe\">\n",
       "  <thead>\n",
       "    <tr style=\"text-align: right;\">\n",
       "      <th></th>\n",
       "      <th>type</th>\n",
       "      <th>image</th>\n",
       "      <th>path</th>\n",
       "    </tr>\n",
       "  </thead>\n",
       "  <tbody>\n",
       "    <tr>\n",
       "      <th>0</th>\n",
       "      <td>Type_3</td>\n",
       "      <td>477.jpg</td>\n",
       "      <td>/home/dataset/train/Type_3/477.jpg</td>\n",
       "    </tr>\n",
       "    <tr>\n",
       "      <th>1</th>\n",
       "      <td>Type_3</td>\n",
       "      <td>1153.jpg</td>\n",
       "      <td>/home/dataset/train/Type_3/1153.jpg</td>\n",
       "    </tr>\n",
       "    <tr>\n",
       "      <th>2</th>\n",
       "      <td>Type_3</td>\n",
       "      <td>335.jpg</td>\n",
       "      <td>/home/dataset/train/Type_3/335.jpg</td>\n",
       "    </tr>\n",
       "    <tr>\n",
       "      <th>3</th>\n",
       "      <td>Type_3</td>\n",
       "      <td>324.jpg</td>\n",
       "      <td>/home/dataset/train/Type_3/324.jpg</td>\n",
       "    </tr>\n",
       "    <tr>\n",
       "      <th>4</th>\n",
       "      <td>Type_3</td>\n",
       "      <td>98.jpg</td>\n",
       "      <td>/home/dataset/train/Type_3/98.jpg</td>\n",
       "    </tr>\n",
       "  </tbody>\n",
       "</table>\n",
       "</div>"
      ],
      "text/plain": [
       "     type     image                                 path\n",
       "0  Type_3   477.jpg   /home/dataset/train/Type_3/477.jpg\n",
       "1  Type_3  1153.jpg  /home/dataset/train/Type_3/1153.jpg\n",
       "2  Type_3   335.jpg   /home/dataset/train/Type_3/335.jpg\n",
       "3  Type_3   324.jpg   /home/dataset/train/Type_3/324.jpg\n",
       "4  Type_3    98.jpg    /home/dataset/train/Type_3/98.jpg"
      ]
     },
     "execution_count": 5,
     "metadata": {},
     "output_type": "execute_result"
    }
   ],
   "source": [
    "import glob\n",
    "train1 = glob.glob('/home/dataset/train/**/*.jpg')\n",
    "train1 =\\\n",
    "pd.DataFrame([[p.split('/')[4],p.split('/')[5],p] for p in train1], columns = ['type','image','path'])\n",
    "\n",
    "train2 = glob.glob('/home/dataset/Type_*/*.jpg')\n",
    "train2 =\\\n",
    "pd.DataFrame([[p.split('/')[3],p.split('/')[4],p] for p in train2], columns = ['type','image','path'])\n",
    "\n",
    "train = pd.concat([train1, train2]).reset_index(drop=True)\n",
    "train.head()"
   ]
  },
  {
   "cell_type": "code",
   "execution_count": 6,
   "metadata": {
    "collapsed": false
   },
   "outputs": [
    {
     "data": {
      "text/plain": [
       "(8215, 3)"
      ]
     },
     "execution_count": 6,
     "metadata": {},
     "output_type": "execute_result"
    }
   ],
   "source": [
    "train.shape"
   ]
  },
  {
   "cell_type": "code",
   "execution_count": 7,
   "metadata": {
    "collapsed": false
   },
   "outputs": [
    {
     "data": {
      "text/html": [
       "<div>\n",
       "<table border=\"1\" class=\"dataframe\">\n",
       "  <thead>\n",
       "    <tr style=\"text-align: right;\">\n",
       "      <th></th>\n",
       "      <th>image</th>\n",
       "      <th>path</th>\n",
       "    </tr>\n",
       "  </thead>\n",
       "  <tbody>\n",
       "    <tr>\n",
       "      <th>0</th>\n",
       "      <td>477.jpg</td>\n",
       "      <td>/home/dataset/test/477.jpg</td>\n",
       "    </tr>\n",
       "    <tr>\n",
       "      <th>1</th>\n",
       "      <td>178.jpg</td>\n",
       "      <td>/home/dataset/test/178.jpg</td>\n",
       "    </tr>\n",
       "    <tr>\n",
       "      <th>2</th>\n",
       "      <td>335.jpg</td>\n",
       "      <td>/home/dataset/test/335.jpg</td>\n",
       "    </tr>\n",
       "    <tr>\n",
       "      <th>3</th>\n",
       "      <td>324.jpg</td>\n",
       "      <td>/home/dataset/test/324.jpg</td>\n",
       "    </tr>\n",
       "    <tr>\n",
       "      <th>4</th>\n",
       "      <td>98.jpg</td>\n",
       "      <td>/home/dataset/test/98.jpg</td>\n",
       "    </tr>\n",
       "  </tbody>\n",
       "</table>\n",
       "</div>"
      ],
      "text/plain": [
       "     image                        path\n",
       "0  477.jpg  /home/dataset/test/477.jpg\n",
       "1  178.jpg  /home/dataset/test/178.jpg\n",
       "2  335.jpg  /home/dataset/test/335.jpg\n",
       "3  324.jpg  /home/dataset/test/324.jpg\n",
       "4   98.jpg   /home/dataset/test/98.jpg"
      ]
     },
     "execution_count": 7,
     "metadata": {},
     "output_type": "execute_result"
    }
   ],
   "source": [
    "test = glob.glob('/home/dataset/test/*.jpg')\n",
    "test = pd.DataFrame([[p.split('/')[4],p] for p in test], columns = ['image','path'])\n",
    "\n",
    "test_id = test.image.values\n",
    "test.head()"
   ]
  },
  {
   "cell_type": "code",
   "execution_count": 8,
   "metadata": {
    "collapsed": true
   },
   "outputs": [],
   "source": [
    "test_id = test.image.values"
   ]
  },
  {
   "cell_type": "code",
   "execution_count": 9,
   "metadata": {
    "collapsed": false
   },
   "outputs": [],
   "source": [
    "#train_ = im_stats(train)\n",
    "#test_ = im_stats(test)"
   ]
  },
  {
   "cell_type": "code",
   "execution_count": 11,
   "metadata": {
    "collapsed": true
   },
   "outputs": [],
   "source": [
    "#train_1 = train_[train_['size'] != '[ 0 ,   0 ]'].reset_index(drop=True) # remove bad images\n",
    "#test_1 = test_[test_['size'] != '[ 0 ,   0 ]'].reset_index(drop=True)    # remove bad images"
   ]
  },
  {
   "cell_type": "code",
   "execution_count": 11,
   "metadata": {
    "collapsed": false
   },
   "outputs": [],
   "source": [
    "#dim = 128\n",
    "#train_data = image_features(train_1['path'], dim)\n",
    "#test_data = image_features(test_1['path'], dim)"
   ]
  },
  {
   "cell_type": "code",
   "execution_count": 12,
   "metadata": {
    "collapsed": false
   },
   "outputs": [],
   "source": [
    "#train_data[:,:,:,::-1].shape, test_data[:,:,:,::-1].shape"
   ]
  },
  {
   "cell_type": "code",
   "execution_count": null,
   "metadata": {
    "collapsed": false
   },
   "outputs": [],
   "source": [
    "# %timeit np.save('ALL_TRAIN_NOSEG_128.npy', train_data[:,:,:,::-1])"
   ]
  },
  {
   "cell_type": "code",
   "execution_count": null,
   "metadata": {
    "collapsed": false
   },
   "outputs": [],
   "source": [
    "# %timeit np.save('ALL_TEST_NOSEG_128.npy', test_data[:,:,:,::-1])"
   ]
  },
  {
   "cell_type": "code",
   "execution_count": 9,
   "metadata": {
    "collapsed": true
   },
   "outputs": [],
   "source": [
    "train_data = np.load('ALL_TRAIN_NOSEG_64.npy')"
   ]
  },
  {
   "cell_type": "code",
   "execution_count": 10,
   "metadata": {
    "collapsed": false
   },
   "outputs": [
    {
     "data": {
      "text/plain": [
       "(8212, 64, 64, 3)"
      ]
     },
     "execution_count": 10,
     "metadata": {},
     "output_type": "execute_result"
    }
   ],
   "source": [
    "train_data.shape"
   ]
  },
  {
   "cell_type": "code",
   "execution_count": 11,
   "metadata": {
    "collapsed": false
   },
   "outputs": [
    {
     "data": {
      "image/png": "[encoded data removed]",
      "text/plain": [
       "<PIL.Image.Image image mode=RGB size=64x64 at 0x7F7D8AC2E748>"
      ]
     },
     "metadata": {},
     "output_type": "display_data"
    }
   ],
   "source": [
    "show(train_data[0])"
   ]
  },
  {
   "cell_type": "code",
   "execution_count": 12,
   "metadata": {
    "collapsed": false
   },
   "outputs": [],
   "source": [
    "test_data = np.load('ALL_TEST_NOSEG_64.npy')"
   ]
  },
  {
   "cell_type": "code",
   "execution_count": 13,
   "metadata": {
    "collapsed": false
   },
   "outputs": [
    {
     "data": {
      "image/png": "[encoded data removed]",
      "text/plain": [
       "<PIL.Image.Image image mode=RGB size=64x64 at 0x7F7D847B6208>"
      ]
     },
     "metadata": {},
     "output_type": "display_data"
    }
   ],
   "source": [
    "show(test_data[0])"
   ]
  },
  {
   "cell_type": "code",
   "execution_count": 14,
   "metadata": {
    "collapsed": false
   },
   "outputs": [],
   "source": [
    "train = pd.read_csv('TRAIN.csv')"
   ]
  },
  {
   "cell_type": "code",
   "execution_count": 15,
   "metadata": {
    "collapsed": false
   },
   "outputs": [],
   "source": [
    "test = pd.read_csv('TEST.csv')"
   ]
  },
  {
   "cell_type": "code",
   "execution_count": 16,
   "metadata": {
    "collapsed": false
   },
   "outputs": [
    {
     "name": "stdout",
     "output_type": "stream",
     "text": [
      "['Type_1' 'Type_2' 'Type_3']\n"
     ]
    }
   ],
   "source": [
    "le = LabelEncoder()\n",
    "train_target = le.fit_transform(train['type'].values)\n",
    "print(le.classes_)"
   ]
  },
  {
   "cell_type": "code",
   "execution_count": 17,
   "metadata": {
    "collapsed": true
   },
   "outputs": [],
   "source": [
    "from keras.layers import Dense, Activation, Conv2D, MaxPool2D, Reshape\n",
    "from keras.wrappers.scikit_learn import KerasClassifier\n",
    "from keras.models import Sequential\n",
    "from keras.layers.core import Dense, Dropout, Flatten, Activation\n",
    "from keras.layers.convolutional import Convolution2D, ZeroPadding2D, MaxPooling2D\n",
    "from keras import optimizers\n",
    "from keras.preprocessing.image import ImageDataGenerator\n",
    "from keras import backend as K\n",
    "from sklearn.model_selection import train_test_split\n",
    "\n",
    "batch_size = 32\n",
    "num_classes = 3\n",
    "epochs = 10\n",
    "data_augmentation = True"
   ]
  },
  {
   "cell_type": "code",
   "execution_count": 18,
   "metadata": {
    "collapsed": false
   },
   "outputs": [],
   "source": [
    "x_train, x_val_train, y_train, y_val_train =\\\n",
    "train_test_split(train_data, train_target, test_size=0.4, random_state=17)"
   ]
  },
  {
   "cell_type": "code",
   "execution_count": 19,
   "metadata": {
    "collapsed": false
   },
   "outputs": [
    {
     "data": {
      "text/plain": [
       "((4927, 64, 64, 3), (3285, 64, 64, 3), (4927,), (3285,))"
      ]
     },
     "execution_count": 19,
     "metadata": {},
     "output_type": "execute_result"
    }
   ],
   "source": [
    "x_train.shape, x_val_train.shape, y_train.shape, y_val_train.shape"
   ]
  },
  {
   "cell_type": "code",
   "execution_count": 20,
   "metadata": {
    "collapsed": false
   },
   "outputs": [],
   "source": [
    "num_classes = 3\n",
    "y_train = keras.utils.to_categorical(y_train, num_classes)\n",
    "y_val_train = keras.utils.to_categorical(y_val_train, num_classes)"
   ]
  },
  {
   "cell_type": "code",
   "execution_count": 54,
   "metadata": {
    "collapsed": false
   },
   "outputs": [
    {
     "name": "stdout",
     "output_type": "stream",
     "text": [
      "_________________________________________________________________\n",
      "Layer (type)                 Output Shape              Param #   \n",
      "=================================================================\n",
      "reshape_3 (Reshape)          (None, 64, 64, 3)         0         \n",
      "_________________________________________________________________\n",
      "conv2d_5 (Conv2D)            (None, 64, 64, 4)         112       \n",
      "_________________________________________________________________\n",
      "activation_9 (Activation)    (None, 64, 64, 4)         0         \n",
      "_________________________________________________________________\n",
      "max_pooling2d_5 (MaxPooling2 (None, 32, 32, 4)         0         \n",
      "_________________________________________________________________\n",
      "dropout_7 (Dropout)          (None, 32, 32, 4)         0         \n",
      "_________________________________________________________________\n",
      "conv2d_6 (Conv2D)            (None, 32, 32, 8)         296       \n",
      "_________________________________________________________________\n",
      "activation_10 (Activation)   (None, 32, 32, 8)         0         \n",
      "_________________________________________________________________\n",
      "max_pooling2d_6 (MaxPooling2 (None, 16, 16, 8)         0         \n",
      "_________________________________________________________________\n",
      "dropout_8 (Dropout)          (None, 16, 16, 8)         0         \n",
      "_________________________________________________________________\n",
      "flatten_3 (Flatten)          (None, 2048)              0         \n",
      "_________________________________________________________________\n",
      "dense_5 (Dense)              (None, 12)                24588     \n",
      "_________________________________________________________________\n",
      "activation_11 (Activation)   (None, 12)                0         \n",
      "_________________________________________________________________\n",
      "dropout_9 (Dropout)          (None, 12)                0         \n",
      "_________________________________________________________________\n",
      "dense_6 (Dense)              (None, 3)                 39        \n",
      "_________________________________________________________________\n",
      "activation_12 (Activation)   (None, 3)                 0         \n",
      "=================================================================\n",
      "Total params: 25,035\n",
      "Trainable params: 25,035\n",
      "Non-trainable params: 0\n",
      "_________________________________________________________________\n"
     ]
    }
   ],
   "source": [
    "# Basic Model \n",
    "model = Sequential()\n",
    "model.add(Reshape((64,64,3), input_shape=x_train.shape[1:]))\n",
    "model.add(Conv2D(4, (3, 3), padding='same',data_format = \"channels_last\"))\n",
    "model.add(Activation('relu'))\n",
    "model.add(MaxPooling2D(pool_size = (2, 2), data_format = \"channels_last\"))\n",
    "model.add(Dropout(0.2))\n",
    "\n",
    "model.add(Conv2D(8, (3, 3), padding='same',  data_format = \"channels_last\"))\n",
    "model.add(Activation('relu'))\n",
    "model.add(MaxPooling2D(pool_size = (2, 2), data_format = \"channels_last\"))\n",
    "model.add(Dropout(0.2))\n",
    "\n",
    "model.add(Flatten())\n",
    "model.add(Dense(12))\n",
    "model.add(Activation('relu'))\n",
    "model.add(Dropout(0.1))\n",
    "model.add(Dense(num_classes))\n",
    "model.add(Activation('softmax'))\n",
    "model.summary()"
   ]
  },
  {
   "cell_type": "code",
   "execution_count": null,
   "metadata": {
    "collapsed": false,
    "scrolled": false
   },
   "outputs": [],
   "source": []
  },
  {
   "cell_type": "code",
   "execution_count": 25,
   "metadata": {
    "collapsed": false
   },
   "outputs": [
    {
     "name": "stdout",
     "output_type": "stream",
     "text": [
      "_________________________________________________________________\n",
      "Layer (type)                 Output Shape              Param #   \n",
      "=================================================================\n",
      "reshape_5 (Reshape)          (None, 64, 64, 3)         0         \n",
      "_________________________________________________________________\n",
      "conv2d_13 (Conv2D)           (None, 64, 64, 4)         112       \n",
      "_________________________________________________________________\n",
      "activation_21 (Activation)   (None, 64, 64, 4)         0         \n",
      "_________________________________________________________________\n",
      "max_pooling2d_13 (MaxPooling (None, 32, 32, 4)         0         \n",
      "_________________________________________________________________\n",
      "dropout_17 (Dropout)         (None, 32, 32, 4)         0         \n",
      "_________________________________________________________________\n",
      "conv2d_14 (Conv2D)           (None, 32, 32, 8)         296       \n",
      "_________________________________________________________________\n",
      "activation_22 (Activation)   (None, 32, 32, 8)         0         \n",
      "_________________________________________________________________\n",
      "max_pooling2d_14 (MaxPooling (None, 16, 16, 8)         0         \n",
      "_________________________________________________________________\n",
      "dropout_18 (Dropout)         (None, 16, 16, 8)         0         \n",
      "_________________________________________________________________\n",
      "conv2d_15 (Conv2D)           (None, 16, 16, 16)        1168      \n",
      "_________________________________________________________________\n",
      "activation_23 (Activation)   (None, 16, 16, 16)        0         \n",
      "_________________________________________________________________\n",
      "max_pooling2d_15 (MaxPooling (None, 8, 8, 16)          0         \n",
      "_________________________________________________________________\n",
      "dropout_19 (Dropout)         (None, 8, 8, 16)          0         \n",
      "_________________________________________________________________\n",
      "flatten_5 (Flatten)          (None, 1024)              0         \n",
      "_________________________________________________________________\n",
      "dense_9 (Dense)              (None, 64)                65600     \n",
      "_________________________________________________________________\n",
      "activation_24 (Activation)   (None, 64)                0         \n",
      "_________________________________________________________________\n",
      "dropout_20 (Dropout)         (None, 64)                0         \n",
      "_________________________________________________________________\n",
      "dense_10 (Dense)             (None, 3)                 195       \n",
      "_________________________________________________________________\n",
      "activation_25 (Activation)   (None, 3)                 0         \n",
      "=================================================================\n",
      "Total params: 67,371\n",
      "Trainable params: 67,371\n",
      "Non-trainable params: 0\n",
      "_________________________________________________________________\n"
     ]
    }
   ],
   "source": [
    "model = Sequential()\n",
    "model.add(Reshape((64,64,3), input_shape=x_train.shape[1:]))\n",
    "model.add(Conv2D(4, (3, 3), padding='same',data_format = \"channels_last\"))\n",
    "model.add(Activation('relu'))\n",
    "model.add(MaxPooling2D(pool_size = (2, 2), data_format = \"channels_last\"))\n",
    "model.add(Dropout(0.5))\n",
    "\n",
    "model.add(Conv2D(8, (3, 3), padding='same',  data_format = \"channels_last\"))\n",
    "model.add(Activation('relu'))\n",
    "model.add(MaxPooling2D(pool_size = (2, 2), data_format = \"channels_last\"))\n",
    "model.add(Dropout(0.5))\n",
    "\n",
    "model.add(Conv2D(16, (3, 3), padding='same',  data_format = \"channels_last\"))\n",
    "model.add(Activation('relu'))\n",
    "model.add(MaxPooling2D(pool_size = (2, 2), data_format = \"channels_last\"))\n",
    "model.add(Dropout(0.5))\n",
    "\n",
    "model.add(Flatten())\n",
    "model.add(Dense(64))\n",
    "model.add(Activation('relu'))\n",
    "model.add(Dropout(0.1))\n",
    "model.add(Dense(num_classes))\n",
    "model.add(Activation('softmax'))\n",
    "model.summary()"
   ]
  },
  {
   "cell_type": "code",
   "execution_count": null,
   "metadata": {
    "collapsed": true
   },
   "outputs": [],
   "source": []
  },
  {
   "cell_type": "code",
   "execution_count": 26,
   "metadata": {
    "collapsed": true
   },
   "outputs": [],
   "source": [
    "#opt = keras.optimizers.rmsprop(lr=0.0001, decay=1e-6)\n",
    "model.compile(optimizer = 'adamax', loss = 'categorical_crossentropy', metrics = ['accuracy'])"
   ]
  },
  {
   "cell_type": "code",
   "execution_count": 27,
   "metadata": {
    "collapsed": false
   },
   "outputs": [],
   "source": [
    "x_train = x_train.astype('float32')\n",
    "x_val_train = x_val_train.astype('float32')\n",
    "\n",
    "x_train /= 255\n",
    "x_val_train /= 255\n",
    "\n",
    "x_test = test_data.astype('float32')\n",
    "x_test /= 255"
   ]
  },
  {
   "cell_type": "code",
   "execution_count": null,
   "metadata": {
    "collapsed": false
   },
   "outputs": [],
   "source": []
  },
  {
   "cell_type": "code",
   "execution_count": 28,
   "metadata": {
    "collapsed": false,
    "scrolled": true
   },
   "outputs": [
    {
     "data": {
      "image/png": "[encoded data removed]",
      "text/plain": [
       "<matplotlib.figure.Figure at 0x7f7d7c8df400>"
      ]
     },
     "metadata": {},
     "output_type": "display_data"
    }
   ],
   "source": [
    "for i in range(0, 3):\n",
    "    pyplot.subplot(330 + 1 + i)\n",
    "    pyplot.imshow(x_train[0:10][i])#, cmap = pyplot.get_cmap('gray'))\n",
    "pyplot.show()"
   ]
  },
  {
   "cell_type": "code",
   "execution_count": 100,
   "metadata": {
    "collapsed": false
   },
   "outputs": [
    {
     "name": "stdout",
     "output_type": "stream",
     "text": [
      "(64, 64, 3)\n"
     ]
    },
    {
     "data": {
      "image/png": "[encoded data removed]",
      "text/plain": [
       "<matplotlib.figure.Figure at 0x7fc7e29762e8>"
      ]
     },
     "metadata": {},
     "output_type": "display_data"
    }
   ],
   "source": [
    "# rotation_range：整数，增加數據，隨機旋轉角度\n",
    "datagen = ImageDataGenerator(rotation_range = 180,\\\n",
    "                             data_format=\"channels_last\")\n",
    "\n",
    "datagen.fit(x_train[0:3])\n",
    "p_train_X, p_train_Y = datagen.flow(x_train[0:3], x_val_train[0:3],\\\n",
    "                                    batch_size = 4, shuffle = False).next()\n",
    "\n",
    "assert (p_train_Y == x_val_train[0:3]).all()\n",
    "\n",
    "for i in range(p_train_X.shape[0]):\n",
    "    print(X_batch.shape)\n",
    "    for i in range(0, 3):\n",
    "        pyplot.subplot(330 + 1 + i)\n",
    "        pyplot.imshow(p_train_X[i]) #, cmap=pyplot.get_cmap('gray'))\n",
    "    pyplot.show()\n",
    "    break"
   ]
  },
  {
   "cell_type": "code",
   "execution_count": 101,
   "metadata": {
    "collapsed": false
   },
   "outputs": [
    {
     "name": "stdout",
     "output_type": "stream",
     "text": [
      "(64, 64, 3)\n"
     ]
    },
    {
     "data": {
      "image/png": "[encoded data removed]",
      "text/plain": [
       "<matplotlib.figure.Figure at 0x7fc7e29fbe80>"
      ]
     },
     "metadata": {},
     "output_type": "display_data"
    }
   ],
   "source": [
    "shift = 0.2 # 圖片的某個比例，可以水平或垂直移動圖片\n",
    "datagen = ImageDataGenerator(width_shift_range = shift,\\\n",
    "                             height_shift_range = shift,\\\n",
    "                             data_format=\"channels_last\")\n",
    "\n",
    "datagen.fit(x_train[0:3])\n",
    "p_train_X, p_train_Y = datagen.flow(x_train[0:3], x_val_train[0:3],\\\n",
    "                                    batch_size = 4, shuffle = False).next()\n",
    "\n",
    "assert (p_train_Y == x_val_train[0:3]).all()\n",
    "\n",
    "for i in range(p_train_X.shape[0]):\n",
    "    print(X_batch.shape)\n",
    "    for i in range(0, 3):\n",
    "        pyplot.subplot(330 + 1 + i)\n",
    "        pyplot.imshow(p_train_X[i]) #, cmap=pyplot.get_cmap('gray'))\n",
    "    pyplot.show()\n",
    "    break"
   ]
  },
  {
   "cell_type": "code",
   "execution_count": 102,
   "metadata": {
    "collapsed": false
   },
   "outputs": [
    {
     "name": "stdout",
     "output_type": "stream",
     "text": [
      "(64, 64, 3)\n"
     ]
    },
    {
     "data": {
      "image/png": "[encoded data removed]",
      "text/plain": [
       "<matplotlib.figure.Figure at 0x7fc7e29fb7f0>"
      ]
     },
     "metadata": {},
     "output_type": "display_data"
    }
   ],
   "source": [
    "# 左右鏡射\n",
    "datagen = ImageDataGenerator(horizontal_flip = True)#, vertical_flip=True)\n",
    "datagen.fit(x_train[0:3])\n",
    "p_train_X, p_train_Y = datagen.flow(x_train[0:3], x_val_train[0:3],\\\n",
    "                                    batch_size = 4, shuffle = False).next()\n",
    "\n",
    "assert (p_train_Y == x_val_train[0:3]).all()\n",
    "\n",
    "for i in range(p_train_X.shape[0]):\n",
    "    print(X_batch.shape)\n",
    "    for i in range(0, 3):\n",
    "        pyplot.subplot(330 + 1 + i)\n",
    "        pyplot.imshow(p_train_X[i]) #, cmap=pyplot.get_cmap('gray'))\n",
    "    pyplot.show()\n",
    "    break"
   ]
  },
  {
   "cell_type": "code",
   "execution_count": 103,
   "metadata": {
    "collapsed": false,
    "scrolled": true
   },
   "outputs": [
    {
     "name": "stdout",
     "output_type": "stream",
     "text": [
      "(64, 64, 3)\n"
     ]
    },
    {
     "data": {
      "image/png": "[encoded data removed]",
      "text/plain": [
       "<matplotlib.figure.Figure at 0x7fc7fd0c2208>"
      ]
     },
     "metadata": {},
     "output_type": "display_data"
    }
   ],
   "source": [
    "# 上下鏡射\n",
    "datagen = ImageDataGenerator(vertical_flip = True)\n",
    "datagen.fit(x_train[0:3])\n",
    "p_train_X, p_train_Y = datagen.flow(x_train[0:3], x_val_train[0:3],\\\n",
    "                                    batch_size = 4, shuffle = False).next()\n",
    "\n",
    "assert (p_train_Y == x_val_train[0:3]).all()\n",
    "\n",
    "for i in range(p_train_X.shape[0]):\n",
    "    print(X_batch.shape)\n",
    "    for i in range(0, 3):\n",
    "        pyplot.subplot(330 + 1 + i)\n",
    "        pyplot.imshow(p_train_X[i]) #, cmap=pyplot.get_cmap('gray'))\n",
    "    pyplot.show()\n",
    "    break"
   ]
  },
  {
   "cell_type": "code",
   "execution_count": null,
   "metadata": {
    "collapsed": false
   },
   "outputs": [],
   "source": []
  },
  {
   "cell_type": "code",
   "execution_count": null,
   "metadata": {
    "collapsed": true
   },
   "outputs": [],
   "source": []
  },
  {
   "cell_type": "code",
   "execution_count": 45,
   "metadata": {
    "collapsed": false
   },
   "outputs": [],
   "source": [
    "# model.fit_generator(datagen.flow(x_train, y_train, batch_size = batch_size),\n",
    "#                         steps_per_epoch = x_train.shape[0],\n",
    "#                         epochs = epochs,\n",
    "#                         validation_data = (x_val_train, y_val_train))"
   ]
  },
  {
   "cell_type": "code",
   "execution_count": 30,
   "metadata": {
    "collapsed": true
   },
   "outputs": [],
   "source": [
    "# shift = 0.2\n",
    "datagen = ImageDataGenerator(rotation_range = 180,\\\n",
    "                             horizontal_flip = True,\\\n",
    "                             vertical_flip = True,\\\n",
    "                             #width_shift_range=shift,\\\n",
    "                             #height_shift_range=shift,\\\n",
    "                             data_format = \"channels_last\")\n",
    "datagen.fit(x_train)"
   ]
  },
  {
   "cell_type": "code",
   "execution_count": null,
   "metadata": {
    "collapsed": false
   },
   "outputs": [],
   "source": []
  },
  {
   "cell_type": "code",
   "execution_count": 31,
   "metadata": {
    "collapsed": false,
    "scrolled": true
   },
   "outputs": [
    {
     "name": "stderr",
     "output_type": "stream",
     "text": [
      "/root/.pyenv/versions/anaconda3-4.3.0/lib/python3.6/site-packages/ipykernel/__main__.py:1: UserWarning: Update your `fit_generator` call to the Keras 2 API: `fit_generator(<keras.pre..., epochs=200, verbose=2, validation_data=(array([[[..., steps_per_epoch=153)`\n",
      "  if __name__ == '__main__':\n"
     ]
    },
    {
     "name": "stdout",
     "output_type": "stream",
     "text": [
      "Epoch 1/200\n",
      "9s - loss: 1.0049 - acc: 0.5229 - val_loss: 1.0286 - val_acc: 0.5263\n",
      "Epoch 2/200\n",
      "7s - loss: 0.9931 - acc: 0.5258 - val_loss: 1.0219 - val_acc: 0.5263\n",
      "Epoch 3/200\n",
      "7s - loss: 0.9856 - acc: 0.5287 - val_loss: 1.0004 - val_acc: 0.5266\n",
      "Epoch 4/200\n",
      "8s - loss: 0.9802 - acc: 0.5301 - val_loss: 1.0048 - val_acc: 0.5272\n",
      "Epoch 5/200\n",
      "8s - loss: 0.9773 - acc: 0.5334 - val_loss: 0.9974 - val_acc: 0.5279\n",
      "Epoch 6/200\n",
      "8s - loss: 0.9760 - acc: 0.5301 - val_loss: 0.9989 - val_acc: 0.5266\n",
      "Epoch 7/200\n",
      "8s - loss: 0.9699 - acc: 0.5351 - val_loss: 0.9868 - val_acc: 0.5257\n",
      "Epoch 8/200\n",
      "8s - loss: 0.9705 - acc: 0.5315 - val_loss: 0.9976 - val_acc: 0.5266\n",
      "Epoch 9/200\n",
      "8s - loss: 0.9712 - acc: 0.5310 - val_loss: 0.9855 - val_acc: 0.5266\n",
      "Epoch 10/200\n",
      "8s - loss: 0.9682 - acc: 0.5275 - val_loss: 0.9918 - val_acc: 0.5254\n",
      "Epoch 11/200\n",
      "8s - loss: 0.9638 - acc: 0.5309 - val_loss: 0.9975 - val_acc: 0.5263\n",
      "Epoch 12/200\n",
      "8s - loss: 0.9628 - acc: 0.5295 - val_loss: 0.9890 - val_acc: 0.5266\n",
      "Epoch 13/200\n",
      "8s - loss: 0.9667 - acc: 0.5304 - val_loss: 0.9849 - val_acc: 0.5260\n",
      "Epoch 14/200\n",
      "8s - loss: 0.9617 - acc: 0.5295 - val_loss: 0.9892 - val_acc: 0.5254\n",
      "Epoch 15/200\n",
      "8s - loss: 0.9624 - acc: 0.5371 - val_loss: 0.9861 - val_acc: 0.5260\n",
      "Epoch 16/200\n",
      "8s - loss: 0.9611 - acc: 0.5320 - val_loss: 0.9949 - val_acc: 0.5260\n",
      "Epoch 17/200\n",
      "7s - loss: 0.9604 - acc: 0.5342 - val_loss: 0.9945 - val_acc: 0.5260\n",
      "Epoch 18/200\n",
      "8s - loss: 0.9544 - acc: 0.5315 - val_loss: 0.9819 - val_acc: 0.5260\n",
      "Epoch 19/200\n",
      "8s - loss: 0.9546 - acc: 0.5353 - val_loss: 0.9769 - val_acc: 0.5288\n",
      "Epoch 20/200\n",
      "8s - loss: 0.9625 - acc: 0.5293 - val_loss: 0.9860 - val_acc: 0.5251\n",
      "Epoch 21/200\n",
      "7s - loss: 0.9524 - acc: 0.5361 - val_loss: 0.9871 - val_acc: 0.5257\n",
      "Epoch 22/200\n",
      "8s - loss: 0.9515 - acc: 0.5369 - val_loss: 0.9691 - val_acc: 0.5285\n",
      "Epoch 23/200\n",
      "8s - loss: 0.9479 - acc: 0.5279 - val_loss: 0.9733 - val_acc: 0.5248\n",
      "Epoch 24/200\n",
      "8s - loss: 0.9495 - acc: 0.5428 - val_loss: 0.9772 - val_acc: 0.5251\n",
      "Epoch 25/200\n",
      "7s - loss: 0.9509 - acc: 0.5393 - val_loss: 0.9753 - val_acc: 0.5269\n",
      "Epoch 26/200\n",
      "8s - loss: 0.9537 - acc: 0.5336 - val_loss: 0.9748 - val_acc: 0.5269\n",
      "Epoch 27/200\n",
      "8s - loss: 0.9421 - acc: 0.5438 - val_loss: 0.9775 - val_acc: 0.5300\n",
      "Epoch 28/200\n",
      "8s - loss: 0.9528 - acc: 0.5346 - val_loss: 0.9681 - val_acc: 0.5291\n",
      "Epoch 29/200\n",
      "8s - loss: 0.9428 - acc: 0.5428 - val_loss: 0.9666 - val_acc: 0.5312\n",
      "Epoch 30/200\n",
      "8s - loss: 0.9466 - acc: 0.5385 - val_loss: 0.9738 - val_acc: 0.5263\n",
      "Epoch 31/200\n",
      "8s - loss: 0.9355 - acc: 0.5460 - val_loss: 0.9721 - val_acc: 0.5300\n",
      "Epoch 32/200\n",
      "8s - loss: 0.9429 - acc: 0.5466 - val_loss: 0.9657 - val_acc: 0.5257\n",
      "Epoch 33/200\n",
      "7s - loss: 0.9412 - acc: 0.5349 - val_loss: 0.9647 - val_acc: 0.5306\n",
      "Epoch 34/200\n",
      "8s - loss: 0.9418 - acc: 0.5412 - val_loss: 0.9633 - val_acc: 0.5263\n",
      "Epoch 35/200\n",
      "8s - loss: 0.9380 - acc: 0.5428 - val_loss: 0.9698 - val_acc: 0.5275\n",
      "Epoch 36/200\n",
      "8s - loss: 0.9312 - acc: 0.5434 - val_loss: 0.9642 - val_acc: 0.5321\n",
      "Epoch 37/200\n",
      "8s - loss: 0.9419 - acc: 0.5262 - val_loss: 0.9687 - val_acc: 0.5297\n",
      "Epoch 38/200\n",
      "8s - loss: 0.9448 - acc: 0.5355 - val_loss: 0.9581 - val_acc: 0.5291\n",
      "Epoch 39/200\n",
      "8s - loss: 0.9339 - acc: 0.5403 - val_loss: 0.9584 - val_acc: 0.5306\n",
      "Epoch 40/200\n",
      "7s - loss: 0.9310 - acc: 0.5367 - val_loss: 0.9541 - val_acc: 0.5346\n",
      "Epoch 41/200\n",
      "8s - loss: 0.9348 - acc: 0.5469 - val_loss: 0.9716 - val_acc: 0.5309\n",
      "Epoch 42/200\n",
      "8s - loss: 0.9384 - acc: 0.5447 - val_loss: 0.9621 - val_acc: 0.5333\n",
      "Epoch 43/200\n",
      "8s - loss: 0.9349 - acc: 0.5428 - val_loss: 0.9558 - val_acc: 0.5361\n",
      "Epoch 44/200\n",
      "8s - loss: 0.9327 - acc: 0.5502 - val_loss: 0.9522 - val_acc: 0.5355\n",
      "Epoch 45/200\n",
      "8s - loss: 0.9233 - acc: 0.5518 - val_loss: 0.9580 - val_acc: 0.5330\n",
      "Epoch 46/200\n",
      "8s - loss: 0.9358 - acc: 0.5436 - val_loss: 0.9694 - val_acc: 0.5306\n",
      "Epoch 47/200\n",
      "8s - loss: 0.9287 - acc: 0.5375 - val_loss: 0.9466 - val_acc: 0.5297\n",
      "Epoch 48/200\n",
      "8s - loss: 0.9388 - acc: 0.5430 - val_loss: 0.9525 - val_acc: 0.5397\n",
      "Epoch 49/200\n",
      "8s - loss: 0.9302 - acc: 0.5522 - val_loss: 0.9493 - val_acc: 0.5352\n",
      "Epoch 50/200\n",
      "8s - loss: 0.9386 - acc: 0.5389 - val_loss: 0.9546 - val_acc: 0.5373\n",
      "Epoch 51/200\n",
      "8s - loss: 0.9234 - acc: 0.5471 - val_loss: 0.9555 - val_acc: 0.5339\n",
      "Epoch 52/200\n",
      "8s - loss: 0.9327 - acc: 0.5410 - val_loss: 0.9546 - val_acc: 0.5352\n",
      "Epoch 53/200\n",
      "8s - loss: 0.9313 - acc: 0.5505 - val_loss: 0.9667 - val_acc: 0.5342\n",
      "Epoch 54/200\n",
      "8s - loss: 0.9321 - acc: 0.5340 - val_loss: 0.9564 - val_acc: 0.5349\n",
      "Epoch 55/200\n",
      "8s - loss: 0.9284 - acc: 0.5547 - val_loss: 0.9555 - val_acc: 0.5364\n",
      "Epoch 56/200\n",
      "8s - loss: 0.9312 - acc: 0.5389 - val_loss: 0.9535 - val_acc: 0.5300\n",
      "Epoch 57/200\n",
      "8s - loss: 0.9189 - acc: 0.5553 - val_loss: 0.9490 - val_acc: 0.5312\n",
      "Epoch 58/200\n",
      "7s - loss: 0.9395 - acc: 0.5422 - val_loss: 0.9527 - val_acc: 0.5297\n",
      "Epoch 59/200\n",
      "8s - loss: 0.9245 - acc: 0.5530 - val_loss: 0.9535 - val_acc: 0.5339\n",
      "Epoch 60/200\n",
      "8s - loss: 0.9338 - acc: 0.5514 - val_loss: 0.9473 - val_acc: 0.5327\n",
      "Epoch 61/200\n",
      "8s - loss: 0.9340 - acc: 0.5414 - val_loss: 0.9561 - val_acc: 0.5333\n",
      "Epoch 62/200\n",
      "8s - loss: 0.9210 - acc: 0.5528 - val_loss: 0.9674 - val_acc: 0.5309\n",
      "Epoch 63/200\n",
      "7s - loss: 0.9337 - acc: 0.5504 - val_loss: 0.9526 - val_acc: 0.5355\n",
      "Epoch 64/200\n",
      "8s - loss: 0.9164 - acc: 0.5489 - val_loss: 0.9527 - val_acc: 0.5333\n",
      "Epoch 65/200\n",
      "8s - loss: 0.9282 - acc: 0.5456 - val_loss: 0.9535 - val_acc: 0.5300\n",
      "Epoch 66/200\n",
      "7s - loss: 0.9211 - acc: 0.5509 - val_loss: 0.9494 - val_acc: 0.5342\n",
      "Epoch 67/200\n",
      "8s - loss: 0.9190 - acc: 0.5501 - val_loss: 0.9553 - val_acc: 0.5294\n",
      "Epoch 68/200\n",
      "7s - loss: 0.9270 - acc: 0.5477 - val_loss: 0.9455 - val_acc: 0.5288\n",
      "Epoch 69/200\n",
      "8s - loss: 0.9303 - acc: 0.5418 - val_loss: 0.9515 - val_acc: 0.5342\n",
      "Epoch 70/200\n",
      "8s - loss: 0.9088 - acc: 0.5538 - val_loss: 0.9462 - val_acc: 0.5300\n",
      "Epoch 71/200\n",
      "8s - loss: 0.9318 - acc: 0.5416 - val_loss: 0.9483 - val_acc: 0.5364\n",
      "Epoch 72/200\n",
      "8s - loss: 0.9123 - acc: 0.5547 - val_loss: 0.9476 - val_acc: 0.5300\n",
      "Epoch 73/200\n",
      "8s - loss: 0.9127 - acc: 0.5546 - val_loss: 0.9486 - val_acc: 0.5297\n",
      "Epoch 74/200\n",
      "7s - loss: 0.9248 - acc: 0.5420 - val_loss: 0.9545 - val_acc: 0.5352\n",
      "Epoch 75/200\n",
      "8s - loss: 0.9308 - acc: 0.5443 - val_loss: 0.9460 - val_acc: 0.5309\n",
      "Epoch 76/200\n",
      "8s - loss: 0.9137 - acc: 0.5577 - val_loss: 0.9565 - val_acc: 0.5315\n",
      "Epoch 77/200\n",
      "8s - loss: 0.9260 - acc: 0.5499 - val_loss: 0.9495 - val_acc: 0.5330\n",
      "Epoch 78/200\n",
      "8s - loss: 0.9200 - acc: 0.5385 - val_loss: 0.9474 - val_acc: 0.5312\n",
      "Epoch 79/200\n",
      "8s - loss: 0.9204 - acc: 0.5522 - val_loss: 0.9487 - val_acc: 0.5336\n",
      "Epoch 80/200\n",
      "8s - loss: 0.9219 - acc: 0.5469 - val_loss: 0.9486 - val_acc: 0.5272\n",
      "Epoch 81/200\n",
      "8s - loss: 0.9199 - acc: 0.5514 - val_loss: 0.9401 - val_acc: 0.5321\n",
      "Epoch 82/200\n",
      "8s - loss: 0.9222 - acc: 0.5481 - val_loss: 0.9431 - val_acc: 0.5321\n",
      "Epoch 83/200\n",
      "8s - loss: 0.9203 - acc: 0.5540 - val_loss: 0.9449 - val_acc: 0.5336\n",
      "Epoch 84/200\n",
      "8s - loss: 0.9162 - acc: 0.5473 - val_loss: 0.9499 - val_acc: 0.5318\n",
      "Epoch 85/200\n",
      "8s - loss: 0.9246 - acc: 0.5522 - val_loss: 0.9400 - val_acc: 0.5355\n",
      "Epoch 86/200\n",
      "8s - loss: 0.9227 - acc: 0.5450 - val_loss: 0.9421 - val_acc: 0.5346\n",
      "Epoch 87/200\n",
      "8s - loss: 0.9169 - acc: 0.5559 - val_loss: 0.9454 - val_acc: 0.5306\n",
      "Epoch 88/200\n",
      "8s - loss: 0.9254 - acc: 0.5503 - val_loss: 0.9485 - val_acc: 0.5336\n",
      "Epoch 89/200\n",
      "8s - loss: 0.9138 - acc: 0.5561 - val_loss: 0.9425 - val_acc: 0.5236\n",
      "Epoch 90/200\n",
      "8s - loss: 0.9315 - acc: 0.5395 - val_loss: 0.9457 - val_acc: 0.5297\n",
      "Epoch 91/200\n",
      "7s - loss: 0.9091 - acc: 0.5618 - val_loss: 0.9441 - val_acc: 0.5300\n",
      "Epoch 92/200\n",
      "8s - loss: 0.9234 - acc: 0.5396 - val_loss: 0.9430 - val_acc: 0.5294\n",
      "Epoch 93/200\n",
      "8s - loss: 0.9063 - acc: 0.5630 - val_loss: 0.9463 - val_acc: 0.5336\n",
      "Epoch 94/200\n",
      "8s - loss: 0.9204 - acc: 0.5550 - val_loss: 0.9355 - val_acc: 0.5339\n",
      "Epoch 95/200\n",
      "7s - loss: 0.9099 - acc: 0.5581 - val_loss: 0.9389 - val_acc: 0.5294\n",
      "Epoch 96/200\n",
      "8s - loss: 0.9139 - acc: 0.5624 - val_loss: 0.9434 - val_acc: 0.5324\n",
      "Epoch 97/200\n",
      "8s - loss: 0.9256 - acc: 0.5506 - val_loss: 0.9378 - val_acc: 0.5321\n",
      "Epoch 98/200\n",
      "7s - loss: 0.9099 - acc: 0.5544 - val_loss: 0.9456 - val_acc: 0.5324\n",
      "Epoch 99/200\n",
      "7s - loss: 0.9075 - acc: 0.5567 - val_loss: 0.9312 - val_acc: 0.5306\n",
      "Epoch 100/200\n",
      "8s - loss: 0.9179 - acc: 0.5495 - val_loss: 0.9371 - val_acc: 0.5285\n",
      "Epoch 101/200\n",
      "8s - loss: 0.9127 - acc: 0.5589 - val_loss: 0.9367 - val_acc: 0.5282\n",
      "Epoch 102/200\n",
      "8s - loss: 0.9173 - acc: 0.5491 - val_loss: 0.9377 - val_acc: 0.5306\n",
      "Epoch 103/200\n",
      "8s - loss: 0.9106 - acc: 0.5569 - val_loss: 0.9410 - val_acc: 0.5339\n",
      "Epoch 104/200\n",
      "7s - loss: 0.9153 - acc: 0.5475 - val_loss: 0.9379 - val_acc: 0.5342\n",
      "Epoch 105/200\n",
      "8s - loss: 0.9129 - acc: 0.5575 - val_loss: 0.9385 - val_acc: 0.5327\n",
      "Epoch 106/200\n",
      "8s - loss: 0.9167 - acc: 0.5492 - val_loss: 0.9395 - val_acc: 0.5330\n",
      "Epoch 107/200\n",
      "8s - loss: 0.9104 - acc: 0.5565 - val_loss: 0.9442 - val_acc: 0.5339\n",
      "Epoch 108/200\n",
      "8s - loss: 0.9080 - acc: 0.5548 - val_loss: 0.9348 - val_acc: 0.5294\n",
      "Epoch 109/200\n",
      "8s - loss: 0.9190 - acc: 0.5432 - val_loss: 0.9471 - val_acc: 0.5291\n",
      "Epoch 110/200\n",
      "8s - loss: 0.9158 - acc: 0.5579 - val_loss: 0.9397 - val_acc: 0.5324\n",
      "Epoch 111/200\n",
      "8s - loss: 0.9133 - acc: 0.5620 - val_loss: 0.9392 - val_acc: 0.5364\n",
      "Epoch 112/200\n",
      "8s - loss: 0.9010 - acc: 0.5549 - val_loss: 0.9376 - val_acc: 0.5288\n",
      "Epoch 113/200\n",
      "8s - loss: 0.9181 - acc: 0.5497 - val_loss: 0.9416 - val_acc: 0.5306\n",
      "Epoch 114/200\n",
      "7s - loss: 0.9085 - acc: 0.5548 - val_loss: 0.9359 - val_acc: 0.5306\n",
      "Epoch 115/200\n",
      "8s - loss: 0.9176 - acc: 0.5598 - val_loss: 0.9536 - val_acc: 0.5324\n",
      "Epoch 116/200\n",
      "8s - loss: 0.9101 - acc: 0.5538 - val_loss: 0.9397 - val_acc: 0.5236\n",
      "Epoch 117/200\n",
      "8s - loss: 0.9123 - acc: 0.5573 - val_loss: 0.9412 - val_acc: 0.5321\n",
      "Epoch 118/200\n",
      "8s - loss: 0.9144 - acc: 0.5581 - val_loss: 0.9406 - val_acc: 0.5202\n",
      "Epoch 119/200\n",
      "8s - loss: 0.9037 - acc: 0.5659 - val_loss: 0.9324 - val_acc: 0.5349\n",
      "Epoch 120/200\n",
      "8s - loss: 0.9140 - acc: 0.5522 - val_loss: 0.9377 - val_acc: 0.5285\n",
      "Epoch 121/200\n",
      "8s - loss: 0.9097 - acc: 0.5561 - val_loss: 0.9321 - val_acc: 0.5312\n",
      "Epoch 122/200\n",
      "8s - loss: 0.9137 - acc: 0.5593 - val_loss: 0.9388 - val_acc: 0.5291\n",
      "Epoch 123/200\n",
      "8s - loss: 0.9071 - acc: 0.5585 - val_loss: 0.9314 - val_acc: 0.5300\n",
      "Epoch 124/200\n",
      "8s - loss: 0.9143 - acc: 0.5498 - val_loss: 0.9422 - val_acc: 0.5355\n",
      "Epoch 125/200\n",
      "8s - loss: 0.9111 - acc: 0.5549 - val_loss: 0.9352 - val_acc: 0.5312\n",
      "Epoch 126/200\n",
      "8s - loss: 0.9048 - acc: 0.5626 - val_loss: 0.9357 - val_acc: 0.5327\n",
      "Epoch 127/200\n",
      "8s - loss: 0.9105 - acc: 0.5581 - val_loss: 0.9307 - val_acc: 0.5312\n",
      "Epoch 128/200\n",
      "7s - loss: 0.9230 - acc: 0.5514 - val_loss: 0.9352 - val_acc: 0.5373\n",
      "Epoch 129/200\n",
      "8s - loss: 0.9000 - acc: 0.5634 - val_loss: 0.9325 - val_acc: 0.5297\n",
      "Epoch 130/200\n",
      "8s - loss: 0.9158 - acc: 0.5483 - val_loss: 0.9408 - val_acc: 0.5272\n",
      "Epoch 131/200\n",
      "8s - loss: 0.9056 - acc: 0.5573 - val_loss: 0.9352 - val_acc: 0.5330\n",
      "Epoch 132/200\n",
      "8s - loss: 0.9079 - acc: 0.5516 - val_loss: 0.9480 - val_acc: 0.5285\n",
      "Epoch 133/200\n",
      "7s - loss: 0.9103 - acc: 0.5494 - val_loss: 0.9347 - val_acc: 0.5257\n",
      "Epoch 134/200\n",
      "7s - loss: 0.9109 - acc: 0.5536 - val_loss: 0.9352 - val_acc: 0.5279\n",
      "Epoch 135/200\n",
      "8s - loss: 0.9059 - acc: 0.5620 - val_loss: 0.9329 - val_acc: 0.5269\n",
      "Epoch 136/200\n"
     ]
    },
    {
     "ename": "KeyboardInterrupt",
     "evalue": "",
     "output_type": "error",
     "traceback": [
      "\u001b[0;31m---------------------------------------------------------------------------\u001b[0m",
      "\u001b[0;31mKeyboardInterrupt\u001b[0m                         Traceback (most recent call last)",
      "\u001b[0;32m<ipython-input-31-36713b5af010>\u001b[0m in \u001b[0;36m<module>\u001b[0;34m()\u001b[0m\n\u001b[0;32m----> 1\u001b[0;31m \u001b[0mmodel\u001b[0m\u001b[0;34m.\u001b[0m\u001b[0mfit_generator\u001b[0m\u001b[0;34m(\u001b[0m\u001b[0mdatagen\u001b[0m\u001b[0;34m.\u001b[0m\u001b[0mflow\u001b[0m\u001b[0;34m(\u001b[0m\u001b[0mx_train\u001b[0m\u001b[0;34m,\u001b[0m \u001b[0my_train\u001b[0m\u001b[0;34m,\u001b[0m                                 \u001b[0mbatch_size\u001b[0m \u001b[0;34m=\u001b[0m \u001b[0;36m32\u001b[0m\u001b[0;34m,\u001b[0m \u001b[0mshuffle\u001b[0m \u001b[0;34m=\u001b[0m \u001b[0;32mTrue\u001b[0m\u001b[0;34m)\u001b[0m\u001b[0;34m,\u001b[0m                    \u001b[0mepochs\u001b[0m \u001b[0;34m=\u001b[0m \u001b[0;36m200\u001b[0m\u001b[0;34m,\u001b[0m                    \u001b[0msamples_per_epoch\u001b[0m \u001b[0;34m=\u001b[0m \u001b[0mx_train\u001b[0m\u001b[0;34m.\u001b[0m\u001b[0mshape\u001b[0m\u001b[0;34m[\u001b[0m\u001b[0;36m0\u001b[0m\u001b[0;34m]\u001b[0m\u001b[0;34m,\u001b[0m                    \u001b[0mverbose\u001b[0m \u001b[0;34m=\u001b[0m \u001b[0;36m2\u001b[0m\u001b[0;34m,\u001b[0m                    \u001b[0mvalidation_data\u001b[0m \u001b[0;34m=\u001b[0m \u001b[0;34m(\u001b[0m\u001b[0mx_val_train\u001b[0m\u001b[0;34m,\u001b[0m \u001b[0my_val_train\u001b[0m\u001b[0;34m)\u001b[0m\u001b[0;34m)\u001b[0m\u001b[0;34m\u001b[0m\u001b[0m\n\u001b[0m",
      "\u001b[0;32m/root/.pyenv/versions/anaconda3-4.3.0/lib/python3.6/site-packages/keras/legacy/interfaces.py\u001b[0m in \u001b[0;36mwrapper\u001b[0;34m(*args, **kwargs)\u001b[0m\n\u001b[1;32m     86\u001b[0m                 warnings.warn('Update your `' + object_name +\n\u001b[1;32m     87\u001b[0m                               '` call to the Keras 2 API: ' + signature, stacklevel=2)\n\u001b[0;32m---> 88\u001b[0;31m             \u001b[0;32mreturn\u001b[0m \u001b[0mfunc\u001b[0m\u001b[0;34m(\u001b[0m\u001b[0;34m*\u001b[0m\u001b[0margs\u001b[0m\u001b[0;34m,\u001b[0m \u001b[0;34m**\u001b[0m\u001b[0mkwargs\u001b[0m\u001b[0;34m)\u001b[0m\u001b[0;34m\u001b[0m\u001b[0m\n\u001b[0m\u001b[1;32m     89\u001b[0m         \u001b[0mwrapper\u001b[0m\u001b[0;34m.\u001b[0m\u001b[0m_legacy_support_signature\u001b[0m \u001b[0;34m=\u001b[0m \u001b[0minspect\u001b[0m\u001b[0;34m.\u001b[0m\u001b[0mgetargspec\u001b[0m\u001b[0;34m(\u001b[0m\u001b[0mfunc\u001b[0m\u001b[0;34m)\u001b[0m\u001b[0;34m\u001b[0m\u001b[0m\n\u001b[1;32m     90\u001b[0m         \u001b[0;32mreturn\u001b[0m \u001b[0mwrapper\u001b[0m\u001b[0;34m\u001b[0m\u001b[0m\n",
      "\u001b[0;32m/root/.pyenv/versions/anaconda3-4.3.0/lib/python3.6/site-packages/keras/models.py\u001b[0m in \u001b[0;36mfit_generator\u001b[0;34m(self, generator, steps_per_epoch, epochs, verbose, callbacks, validation_data, validation_steps, class_weight, max_q_size, workers, pickle_safe, initial_epoch)\u001b[0m\n\u001b[1;32m   1108\u001b[0m                                         \u001b[0mworkers\u001b[0m\u001b[0;34m=\u001b[0m\u001b[0mworkers\u001b[0m\u001b[0;34m,\u001b[0m\u001b[0;34m\u001b[0m\u001b[0m\n\u001b[1;32m   1109\u001b[0m                                         \u001b[0mpickle_safe\u001b[0m\u001b[0;34m=\u001b[0m\u001b[0mpickle_safe\u001b[0m\u001b[0;34m,\u001b[0m\u001b[0;34m\u001b[0m\u001b[0m\n\u001b[0;32m-> 1110\u001b[0;31m                                         initial_epoch=initial_epoch)\n\u001b[0m\u001b[1;32m   1111\u001b[0m \u001b[0;34m\u001b[0m\u001b[0m\n\u001b[1;32m   1112\u001b[0m     \u001b[0;34m@\u001b[0m\u001b[0minterfaces\u001b[0m\u001b[0;34m.\u001b[0m\u001b[0mlegacy_generator_methods_support\u001b[0m\u001b[0;34m\u001b[0m\u001b[0m\n",
      "\u001b[0;32m/root/.pyenv/versions/anaconda3-4.3.0/lib/python3.6/site-packages/keras/legacy/interfaces.py\u001b[0m in \u001b[0;36mwrapper\u001b[0;34m(*args, **kwargs)\u001b[0m\n\u001b[1;32m     86\u001b[0m                 warnings.warn('Update your `' + object_name +\n\u001b[1;32m     87\u001b[0m                               '` call to the Keras 2 API: ' + signature, stacklevel=2)\n\u001b[0;32m---> 88\u001b[0;31m             \u001b[0;32mreturn\u001b[0m \u001b[0mfunc\u001b[0m\u001b[0;34m(\u001b[0m\u001b[0;34m*\u001b[0m\u001b[0margs\u001b[0m\u001b[0;34m,\u001b[0m \u001b[0;34m**\u001b[0m\u001b[0mkwargs\u001b[0m\u001b[0;34m)\u001b[0m\u001b[0;34m\u001b[0m\u001b[0m\n\u001b[0m\u001b[1;32m     89\u001b[0m         \u001b[0mwrapper\u001b[0m\u001b[0;34m.\u001b[0m\u001b[0m_legacy_support_signature\u001b[0m \u001b[0;34m=\u001b[0m \u001b[0minspect\u001b[0m\u001b[0;34m.\u001b[0m\u001b[0mgetargspec\u001b[0m\u001b[0;34m(\u001b[0m\u001b[0mfunc\u001b[0m\u001b[0;34m)\u001b[0m\u001b[0;34m\u001b[0m\u001b[0m\n\u001b[1;32m     90\u001b[0m         \u001b[0;32mreturn\u001b[0m \u001b[0mwrapper\u001b[0m\u001b[0;34m\u001b[0m\u001b[0m\n",
      "\u001b[0;32m/root/.pyenv/versions/anaconda3-4.3.0/lib/python3.6/site-packages/keras/engine/training.py\u001b[0m in \u001b[0;36mfit_generator\u001b[0;34m(self, generator, steps_per_epoch, epochs, verbose, callbacks, validation_data, validation_steps, class_weight, max_q_size, workers, pickle_safe, initial_epoch)\u001b[0m\n\u001b[1;32m   1857\u001b[0m                             \u001b[0;32mbreak\u001b[0m\u001b[0;34m\u001b[0m\u001b[0m\n\u001b[1;32m   1858\u001b[0m                         \u001b[0;32melse\u001b[0m\u001b[0;34m:\u001b[0m\u001b[0;34m\u001b[0m\u001b[0m\n\u001b[0;32m-> 1859\u001b[0;31m                             \u001b[0mtime\u001b[0m\u001b[0;34m.\u001b[0m\u001b[0msleep\u001b[0m\u001b[0;34m(\u001b[0m\u001b[0mwait_time\u001b[0m\u001b[0;34m)\u001b[0m\u001b[0;34m\u001b[0m\u001b[0m\n\u001b[0m\u001b[1;32m   1860\u001b[0m \u001b[0;34m\u001b[0m\u001b[0m\n\u001b[1;32m   1861\u001b[0m                     \u001b[0;32mif\u001b[0m \u001b[0;32mnot\u001b[0m \u001b[0mhasattr\u001b[0m\u001b[0;34m(\u001b[0m\u001b[0mgenerator_output\u001b[0m\u001b[0;34m,\u001b[0m \u001b[0;34m'__len__'\u001b[0m\u001b[0;34m)\u001b[0m\u001b[0;34m:\u001b[0m\u001b[0;34m\u001b[0m\u001b[0m\n",
      "\u001b[0;31mKeyboardInterrupt\u001b[0m: "
     ]
    }
   ],
   "source": [
    "model.fit_generator(datagen.flow(x_train, y_train,\\\n",
    "                                 batch_size = 32, shuffle = True),\\\n",
    "                    epochs = 200,\\\n",
    "                    samples_per_epoch = x_train.shape[0],\\\n",
    "                    verbose = 2,\\\n",
    "                    validation_data = (x_val_train, y_val_train))"
   ]
  },
  {
   "cell_type": "code",
   "execution_count": null,
   "metadata": {
    "collapsed": true
   },
   "outputs": [],
   "source": []
  },
  {
   "cell_type": "code",
   "execution_count": 39,
   "metadata": {
    "collapsed": false,
    "scrolled": true
   },
   "outputs": [
    {
     "name": "stdout",
     "output_type": "stream",
     "text": [
      "\r",
      " 32/512 [>.............................] - ETA: 0s"
     ]
    }
   ],
   "source": [
    "pred = model.predict_proba(x_test)"
   ]
  },
  {
   "cell_type": "code",
   "execution_count": 40,
   "metadata": {
    "collapsed": false
   },
   "outputs": [],
   "source": [
    "df = pd.DataFrame(pred, columns=['Type_1','Type_2','Type_3'])"
   ]
  },
  {
   "cell_type": "code",
   "execution_count": 41,
   "metadata": {
    "collapsed": true
   },
   "outputs": [],
   "source": [
    "df['image_name'] = test_id"
   ]
  },
  {
   "cell_type": "code",
   "execution_count": 42,
   "metadata": {
    "collapsed": true
   },
   "outputs": [],
   "source": [
    "df = df[['image_name','Type_1','Type_2','Type_3']]"
   ]
  },
  {
   "cell_type": "code",
   "execution_count": null,
   "metadata": {
    "collapsed": false
   },
   "outputs": [],
   "source": []
  },
  {
   "cell_type": "code",
   "execution_count": 44,
   "metadata": {
    "collapsed": false,
    "scrolled": true
   },
   "outputs": [],
   "source": [
    "df.to_csv('/home/Kaggle_Cervical_Cancer_Screening/submission/submission_LB1.csv', index=False)"
   ]
  },
  {
   "cell_type": "code",
   "execution_count": null,
   "metadata": {
    "collapsed": false
   },
   "outputs": [],
   "source": []
  },
  {
   "cell_type": "code",
   "execution_count": null,
   "metadata": {
    "collapsed": true
   },
   "outputs": [],
   "source": []
  },
  {
   "cell_type": "code",
   "execution_count": null,
   "metadata": {
    "collapsed": true
   },
   "outputs": [],
   "source": []
  },
  {
   "cell_type": "code",
   "execution_count": null,
   "metadata": {
    "collapsed": true
   },
   "outputs": [],
   "source": []
  },
  {
   "cell_type": "code",
   "execution_count": null,
   "metadata": {
    "collapsed": false
   },
   "outputs": [],
   "source": []
  },
  {
   "cell_type": "code",
   "execution_count": null,
   "metadata": {
    "collapsed": true
   },
   "outputs": [],
   "source": []
  },
  {
   "cell_type": "code",
   "execution_count": null,
   "metadata": {
    "collapsed": true
   },
   "outputs": [],
   "source": []
  },
  {
   "cell_type": "code",
   "execution_count": null,
   "metadata": {
    "collapsed": true
   },
   "outputs": [],
   "source": []
  },
  {
   "cell_type": "code",
   "execution_count": null,
   "metadata": {
    "collapsed": true
   },
   "outputs": [],
   "source": []
  },
  {
   "cell_type": "code",
   "execution_count": null,
   "metadata": {
    "collapsed": true
   },
   "outputs": [],
   "source": []
  }
 ],
 "metadata": {
  "kernelspec": {
   "display_name": "Python 3",
   "language": "python",
   "name": "python3"
  },
  "language_info": {
   "codemirror_mode": {
    "name": "ipython",
    "version": 3
   },
   "file_extension": ".py",
   "mimetype": "text/x-python",
   "name": "python",
   "nbconvert_exporter": "python",
   "pygments_lexer": "ipython3",
   "version": "3.6.0"
  }
 },
 "nbformat": 4,
 "nbformat_minor": 2
}
