{
 "cells": [
  {
   "cell_type": "code",
   "execution_count": 19,
   "metadata": {
    "collapsed": false
   },
   "outputs": [],
   "source": [
    "import os\n",
    "import cv2\n",
    "import glob\n",
    "from glob import glob\n",
    "import math\n",
    "import numpy as np\n",
    "import pandas as pd\n",
    "import tensorflow as tf\n",
    "from matplotlib import pyplot\n",
    "import matplotlib.pyplot\n",
    "import matplotlib.pyplot as plt\n",
    "from sklearn.preprocessing import LabelEncoder\n",
    "from multiprocessing import Pool, cpu_count\n",
    "from PIL import ImageFilter, ImageStat, Image, ImageDraw\n",
    "from IPython.display import display\n",
    "import keras"
   ]
  },
  {
   "cell_type": "code",
   "execution_count": 7,
   "metadata": {
    "collapsed": true
   },
   "outputs": [],
   "source": [
    "def show(X):\n",
    "    display(Image.fromarray(X))\n",
    "    \n",
    "def im_multi(path):\n",
    "    try:\n",
    "        #print(path)\n",
    "        im_stats_im_ = cv2.imread(path)\n",
    "        #print(im_stats_im_.size)\n",
    "        return [path, {'size': im_stats_im_.size}]\n",
    "    except:\n",
    "        print(\"Error path:%s\"%(path))\n",
    "        return [path, {'size': [0, 0]}]\n",
    "    \n",
    "def im_stats(im_stats_df):\n",
    "    im_stats_d = {}\n",
    "    p = Pool(cpu_count())\n",
    "    ret = p.map(im_multi, im_stats_df['path'])\n",
    "    for i in range(len(ret)):\n",
    "        im_stats_d[ret[i][0]] = ret[i][1]\n",
    "    im_stats_df['size'] = im_stats_df['path'].map(lambda x: ' '.join([str(s) for s in str(im_stats_d[x]['size'])]))\n",
    "    return im_stats_df"
   ]
  },
  {
   "cell_type": "code",
   "execution_count": 8,
   "metadata": {
    "collapsed": false
   },
   "outputs": [
    {
     "data": {
      "text/html": [
       "<div>\n",
       "<table border=\"1\" class=\"dataframe\">\n",
       "  <thead>\n",
       "    <tr style=\"text-align: right;\">\n",
       "      <th></th>\n",
       "      <th>type</th>\n",
       "      <th>image</th>\n",
       "      <th>path</th>\n",
       "    </tr>\n",
       "  </thead>\n",
       "  <tbody>\n",
       "    <tr>\n",
       "      <th>0</th>\n",
       "      <td>Type_3</td>\n",
       "      <td>477.jpg</td>\n",
       "      <td>/home/dataset/train/Type_3/477.jpg</td>\n",
       "    </tr>\n",
       "    <tr>\n",
       "      <th>1</th>\n",
       "      <td>Type_3</td>\n",
       "      <td>1153.jpg</td>\n",
       "      <td>/home/dataset/train/Type_3/1153.jpg</td>\n",
       "    </tr>\n",
       "    <tr>\n",
       "      <th>2</th>\n",
       "      <td>Type_3</td>\n",
       "      <td>335.jpg</td>\n",
       "      <td>/home/dataset/train/Type_3/335.jpg</td>\n",
       "    </tr>\n",
       "    <tr>\n",
       "      <th>3</th>\n",
       "      <td>Type_3</td>\n",
       "      <td>324.jpg</td>\n",
       "      <td>/home/dataset/train/Type_3/324.jpg</td>\n",
       "    </tr>\n",
       "    <tr>\n",
       "      <th>4</th>\n",
       "      <td>Type_3</td>\n",
       "      <td>98.jpg</td>\n",
       "      <td>/home/dataset/train/Type_3/98.jpg</td>\n",
       "    </tr>\n",
       "  </tbody>\n",
       "</table>\n",
       "</div>"
      ],
      "text/plain": [
       "     type     image                                 path\n",
       "0  Type_3   477.jpg   /home/dataset/train/Type_3/477.jpg\n",
       "1  Type_3  1153.jpg  /home/dataset/train/Type_3/1153.jpg\n",
       "2  Type_3   335.jpg   /home/dataset/train/Type_3/335.jpg\n",
       "3  Type_3   324.jpg   /home/dataset/train/Type_3/324.jpg\n",
       "4  Type_3    98.jpg    /home/dataset/train/Type_3/98.jpg"
      ]
     },
     "execution_count": 8,
     "metadata": {},
     "output_type": "execute_result"
    }
   ],
   "source": [
    "import glob\n",
    "train1 = glob.glob('/home/dataset/train/**/*.jpg')\n",
    "train1 =\\\n",
    "pd.DataFrame([[p.split('/')[4],p.split('/')[5],p] for p in train1], columns = ['type','image','path'])\n",
    "\n",
    "train2 = glob.glob('/home/dataset/Type_*/*.jpg')\n",
    "train2 =\\\n",
    "pd.DataFrame([[p.split('/')[3],p.split('/')[4],p] for p in train2], columns = ['type','image','path'])\n",
    "\n",
    "train = pd.concat([train1, train2]).reset_index(drop=True)\n",
    "train.head()"
   ]
  },
  {
   "cell_type": "code",
   "execution_count": 9,
   "metadata": {
    "collapsed": false
   },
   "outputs": [
    {
     "data": {
      "text/html": [
       "<div>\n",
       "<table border=\"1\" class=\"dataframe\">\n",
       "  <thead>\n",
       "    <tr style=\"text-align: right;\">\n",
       "      <th></th>\n",
       "      <th>image</th>\n",
       "      <th>path</th>\n",
       "    </tr>\n",
       "  </thead>\n",
       "  <tbody>\n",
       "    <tr>\n",
       "      <th>0</th>\n",
       "      <td>477.jpg</td>\n",
       "      <td>/home/dataset/test/477.jpg</td>\n",
       "    </tr>\n",
       "    <tr>\n",
       "      <th>1</th>\n",
       "      <td>178.jpg</td>\n",
       "      <td>/home/dataset/test/178.jpg</td>\n",
       "    </tr>\n",
       "    <tr>\n",
       "      <th>2</th>\n",
       "      <td>335.jpg</td>\n",
       "      <td>/home/dataset/test/335.jpg</td>\n",
       "    </tr>\n",
       "    <tr>\n",
       "      <th>3</th>\n",
       "      <td>324.jpg</td>\n",
       "      <td>/home/dataset/test/324.jpg</td>\n",
       "    </tr>\n",
       "    <tr>\n",
       "      <th>4</th>\n",
       "      <td>98.jpg</td>\n",
       "      <td>/home/dataset/test/98.jpg</td>\n",
       "    </tr>\n",
       "  </tbody>\n",
       "</table>\n",
       "</div>"
      ],
      "text/plain": [
       "     image                        path\n",
       "0  477.jpg  /home/dataset/test/477.jpg\n",
       "1  178.jpg  /home/dataset/test/178.jpg\n",
       "2  335.jpg  /home/dataset/test/335.jpg\n",
       "3  324.jpg  /home/dataset/test/324.jpg\n",
       "4   98.jpg   /home/dataset/test/98.jpg"
      ]
     },
     "execution_count": 9,
     "metadata": {},
     "output_type": "execute_result"
    }
   ],
   "source": [
    "test = glob.glob('/home/dataset/test/*.jpg')\n",
    "test = pd.DataFrame([[p.split('/')[4],p] for p in test], columns = ['image','path'])\n",
    "\n",
    "test_id = test.image.values\n",
    "test.head()"
   ]
  },
  {
   "cell_type": "code",
   "execution_count": 10,
   "metadata": {
    "collapsed": true
   },
   "outputs": [],
   "source": [
    "test_id = test.image.values"
   ]
  },
  {
   "cell_type": "code",
   "execution_count": 11,
   "metadata": {
    "collapsed": true
   },
   "outputs": [],
   "source": [
    "train = pd.read_csv('TRAIN.csv')"
   ]
  },
  {
   "cell_type": "code",
   "execution_count": 12,
   "metadata": {
    "collapsed": true
   },
   "outputs": [],
   "source": [
    "test = pd.read_csv('TEST.csv')"
   ]
  },
  {
   "cell_type": "code",
   "execution_count": 13,
   "metadata": {
    "collapsed": false
   },
   "outputs": [
    {
     "name": "stdout",
     "output_type": "stream",
     "text": [
      "['Type_1' 'Type_2' 'Type_3']\n"
     ]
    }
   ],
   "source": [
    "le = LabelEncoder()\n",
    "train_target = le.fit_transform(train['type'].values)\n",
    "print(le.classes_)"
   ]
  },
  {
   "cell_type": "code",
   "execution_count": null,
   "metadata": {
    "collapsed": false
   },
   "outputs": [],
   "source": []
  },
  {
   "cell_type": "code",
   "execution_count": 29,
   "metadata": {
    "collapsed": false,
    "scrolled": false
   },
   "outputs": [],
   "source": [
    "# show(cv2.imread(not_cervix[0]))"
   ]
  },
  {
   "cell_type": "code",
   "execution_count": 30,
   "metadata": {
    "collapsed": false
   },
   "outputs": [],
   "source": [
    "# cv2.imread(not_cervix[0])"
   ]
  },
  {
   "cell_type": "code",
   "execution_count": null,
   "metadata": {
    "collapsed": true
   },
   "outputs": [],
   "source": []
  },
  {
   "cell_type": "code",
   "execution_count": 44,
   "metadata": {
    "collapsed": false
   },
   "outputs": [],
   "source": [
    "def get_im_cv2(args):\n",
    "    \n",
    "    img = cv2.imread(args[0])\n",
    "    #print('start gray')\n",
    "    img_gray = cv2.cvtColor(img, cv2.COLOR_BGR2GRAY)\n",
    "    ret, threshold = cv2.threshold(img_gray, 120, 255, cv2.THRESH_BINARY)\n",
    "    im2, contours, hierarchy = cv2.findContours(threshold, cv2.RETR_LIST, cv2.CHAIN_APPROX_SIMPLE)\n",
    "    rects = [cv2.boundingRect(cnt) for cnt in contours]\n",
    "    \n",
    "    try: \n",
    "        top_x = min([x for (x, y, w, h) in rects])\n",
    "        top_y = min([y for (x, y, w, h) in rects])\n",
    "        bottom_x = max([x+w for (x, y, w, h) in rects])\n",
    "        bottom_y = max([y+h for (x, y, w, h) in rects])  \n",
    "    except:\n",
    "        print('Error1 image: %s'%(args[0]))\n",
    "    \n",
    "    try:\n",
    "        crop = img[top_y:bottom_y, top_x:bottom_x]\n",
    "        resized = cv2.resize(crop, (args[1], args[1]), cv2.INTER_LINEAR)\n",
    "        return [args[0], resized]\n",
    "    except:\n",
    "        print('Error2 image: %s'%(args[0]))\n",
    "        crop = img\n",
    "        resized = cv2.resize(crop, (args[1], args[1]), cv2.INTER_LINEAR)\n",
    "        return [args[0], resized]\n",
    "\n",
    "def image_features(paths, dim):\n",
    "    \n",
    "    imf_d = {}\n",
    "    p = Pool(cpu_count())\n",
    "    dims = [dim for i in range(len(paths.tolist()))]\n",
    "    params = list(zip(paths.tolist(), dims))\n",
    "    ret = p.map(get_im_cv2, params)\n",
    "    #print(ret)\n",
    "    for i in range(len(ret)):\n",
    "        imf_d[ret[i][0]] = ret[i][1]\n",
    "    ret = []\n",
    "    fdata = [imf_d[f] for f in paths]\n",
    "    fdata = np.array(fdata, dtype = np.uint8)\n",
    "    \n",
    "    return fdata"
   ]
  },
  {
   "cell_type": "code",
   "execution_count": 45,
   "metadata": {
    "collapsed": false,
    "scrolled": true
   },
   "outputs": [
    {
     "name": "stdout",
     "output_type": "stream",
     "text": [
      "Error1 image: /home/dataset/Type_3/6240.jpg\n",
      "Error2 image: /home/dataset/Type_3/6240.jpg\n",
      "Error1 image: /home/dataset/Type_1/2239.jpg\n",
      "Error2 image: /home/dataset/Type_1/2239.jpg\n",
      "Error1 image: /home/dataset/Type_1/3433.jpg\n",
      "Error2 image: /home/dataset/Type_1/3433.jpg\n",
      "Error1 image: /home/dataset/Type_1/5948.jpg\n",
      "Error2 image: /home/dataset/Type_1/5948.jpg\n",
      "Error1 image: /home/dataset/Type_3/6230.jpg\n",
      "Error2 image: /home/dataset/Type_3/6230.jpg\n",
      "Error1 image: /home/dataset/Type_1/382.jpg\n",
      "Error2 image: /home/dataset/Type_1/382.jpg\n",
      "Error1 image: /home/dataset/Type_1/6028.jpg\n",
      "Error2 image: /home/dataset/Type_1/6028.jpg\n",
      "Error1 image: /home/dataset/Type_1/2391.jpg\n",
      "Error2 image: /home/dataset/Type_1/2391.jpg\n",
      "Error1 image: /home/dataset/Type_1/563.jpg\n",
      "Error2 image: /home/dataset/Type_1/563.jpg\n",
      "Error1 image: /home/dataset/Type_1/1941.jpg\n",
      "Error2 image: /home/dataset/Type_1/1941.jpg\n",
      "Error1 image: /home/dataset/Type_1/3611.jpg\n",
      "Error2 image: /home/dataset/Type_1/3611.jpg\n",
      "Error1 image: /home/dataset/Type_2/2366.jpg\n",
      "Error2 image: /home/dataset/Type_2/2366.jpg\n",
      "Error1 image: /home/dataset/Type_1/6655.jpg\n",
      "Error2 image: /home/dataset/Type_1/6655.jpg\n",
      "Error1 image: /home/dataset/Type_2/6357.jpg\n",
      "Error2 image: /home/dataset/Type_2/6357.jpg\n",
      "Error1 image: /home/dataset/Type_2/786.jpg\n",
      "Error2 image: /home/dataset/Type_2/786.jpg\n",
      "Error1 image: /home/dataset/Type_2/3539.jpg\n",
      "Error2 image: /home/dataset/Type_2/3539.jpg\n",
      "Error1 image: /home/dataset/Type_2/6354.jpg\n",
      "Error2 image: /home/dataset/Type_2/6354.jpg\n",
      "Error1 image: /home/dataset/Type_1/1363.jpg\n",
      "Error2 image: /home/dataset/Type_1/1363.jpg\n",
      "Error1 image: /home/dataset/Type_2/3238.jpg\n",
      "Error2 image: /home/dataset/Type_2/3238.jpg\n",
      "Error1 image: /home/dataset/Type_2/2378.jpg\n",
      "Error2 image: /home/dataset/Type_2/2378.jpg\n",
      "Error1 image: /home/dataset/Type_2/6358.jpg\n",
      "Error2 image: /home/dataset/Type_2/6358.jpg\n",
      "Error1 image: /home/dataset/Type_2/2731.jpg\n",
      "Error2 image: /home/dataset/Type_2/2731.jpg\n",
      "Error1 image: /home/dataset/Type_2/1976.jpg\n",
      "Error2 image: /home/dataset/Type_2/1976.jpg\n",
      "Error1 image: /home/dataset/Type_2/2745.jpg\n",
      "Error2 image: /home/dataset/Type_2/2745.jpg\n",
      "Error1 image: /home/dataset/Type_2/6355.jpg\n",
      "Error2 image: /home/dataset/Type_2/6355.jpg\n",
      "Error1 image: /home/dataset/Type_2/1710.jpg\n",
      "Error2 image: /home/dataset/Type_2/1710.jpg\n",
      "Error1 image: /home/dataset/Type_2/990.jpg\n",
      "Error2 image: /home/dataset/Type_2/990.jpg\n",
      "Error1 image: /home/dataset/Type_2/3595.jpg\n",
      "Error2 image: /home/dataset/Type_2/3595.jpg\n",
      "Error1 image: /home/dataset/Type_2/3243.jpg\n",
      "Error2 image: /home/dataset/Type_2/3243.jpg\n",
      "Error1 image: /home/dataset/Type_2/1609.jpg\n",
      "Error2 image: /home/dataset/Type_2/1609.jpg\n",
      "Error1 image: /home/dataset/Type_2/3085.jpg\n",
      "Error2 image: /home/dataset/Type_2/3085.jpg\n",
      "Error1 image: /home/dataset/Type_2/1387.jpg\n",
      "Error2 image: /home/dataset/Type_2/1387.jpg\n",
      "Error1 image: /home/dataset/Type_2/3678.jpg\n",
      "Error2 image: /home/dataset/Type_2/3678.jpg\n",
      "Error1 image: /home/dataset/Type_2/6356.jpg\n",
      "Error2 image: /home/dataset/Type_2/6356.jpg\n",
      "Error1 image: /home/dataset/Type_2/6427.jpg\n",
      "Error2 image: /home/dataset/Type_2/6427.jpg\n",
      "Error1 image: /home/dataset/Type_2/4064.jpg\n",
      "Error2 image: /home/dataset/Type_2/4064.jpg\n"
     ]
    }
   ],
   "source": [
    "dim = 64\n",
    "train_data = image_features(train['path'], dim)"
   ]
  },
  {
   "cell_type": "code",
   "execution_count": 47,
   "metadata": {
    "collapsed": false
   },
   "outputs": [
    {
     "data": {
      "text/plain": [
       "(8212, 64, 64, 3)"
      ]
     },
     "execution_count": 47,
     "metadata": {},
     "output_type": "execute_result"
    }
   ],
   "source": [
    "train_data.shape"
   ]
  },
  {
   "cell_type": "code",
   "execution_count": 75,
   "metadata": {
    "collapsed": false
   },
   "outputs": [],
   "source": [
    "# %timeit np.save('ALL_TRAIN_SEGCV_64.npy', train_data[:,:,:,::-1])"
   ]
  },
  {
   "cell_type": "code",
   "execution_count": 77,
   "metadata": {
    "collapsed": false
   },
   "outputs": [],
   "source": [
    "# train_data = np.load('ALL_TRAIN_SEGCV_64.npy').shape"
   ]
  },
  {
   "cell_type": "code",
   "execution_count": null,
   "metadata": {
    "collapsed": true
   },
   "outputs": [],
   "source": [
    "test_data = image_features(test['path'], dim)"
   ]
  },
  {
   "cell_type": "code",
   "execution_count": null,
   "metadata": {
    "collapsed": true
   },
   "outputs": [],
   "source": [
    "%timeit np.save('ALL_TEST_SEGCV_64.npy', test_data[:,:,:,::-1])"
   ]
  },
  {
   "cell_type": "code",
   "execution_count": null,
   "metadata": {
    "collapsed": true
   },
   "outputs": [],
   "source": [
    "test_data"
   ]
  },
  {
   "cell_type": "code",
   "execution_count": 24,
   "metadata": {
    "collapsed": true
   },
   "outputs": [],
   "source": [
    "not_cervix =\\\n",
    "[\n",
    "    '/home/dataset/Type_1/746.jpg',\n",
    "    '/home/dataset/Type_1/2030.jpg',\n",
    "    '/home/dataset/Type_1/4065.jpg',\n",
    "    '/home/dataset/Type_1/4702.jpg',\n",
    "    '/home/dataset/Type_1/4706.jpg',\n",
    "    '/home/dataset/Type_2/1813.jpg',\n",
    "    '/home/dataset/Type_2/3086.jpg',\n",
    "]"
   ]
  },
  {
   "cell_type": "code",
   "execution_count": null,
   "metadata": {
    "collapsed": true
   },
   "outputs": [],
   "source": []
  },
  {
   "cell_type": "code",
   "execution_count": null,
   "metadata": {
    "collapsed": true
   },
   "outputs": [],
   "source": []
  },
  {
   "cell_type": "code",
   "execution_count": null,
   "metadata": {
    "collapsed": true
   },
   "outputs": [],
   "source": []
  },
  {
   "cell_type": "code",
   "execution_count": null,
   "metadata": {
    "collapsed": true
   },
   "outputs": [],
   "source": []
  },
  {
   "cell_type": "code",
   "execution_count": null,
   "metadata": {
    "collapsed": true
   },
   "outputs": [],
   "source": []
  },
  {
   "cell_type": "code",
   "execution_count": null,
   "metadata": {
    "collapsed": true
   },
   "outputs": [],
   "source": []
  },
  {
   "cell_type": "code",
   "execution_count": null,
   "metadata": {
    "collapsed": true
   },
   "outputs": [],
   "source": []
  },
  {
   "cell_type": "code",
   "execution_count": null,
   "metadata": {
    "collapsed": true
   },
   "outputs": [],
   "source": []
  },
  {
   "cell_type": "code",
   "execution_count": null,
   "metadata": {
    "collapsed": true
   },
   "outputs": [],
   "source": []
  },
  {
   "cell_type": "code",
   "execution_count": null,
   "metadata": {
    "collapsed": true
   },
   "outputs": [],
   "source": []
  },
  {
   "cell_type": "code",
   "execution_count": null,
   "metadata": {
    "collapsed": true
   },
   "outputs": [],
   "source": []
  },
  {
   "cell_type": "code",
   "execution_count": null,
   "metadata": {
    "collapsed": true
   },
   "outputs": [],
   "source": []
  },
  {
   "cell_type": "code",
   "execution_count": null,
   "metadata": {
    "collapsed": true
   },
   "outputs": [],
   "source": []
  },
  {
   "cell_type": "code",
   "execution_count": null,
   "metadata": {
    "collapsed": true
   },
   "outputs": [],
   "source": []
  },
  {
   "cell_type": "code",
   "execution_count": null,
   "metadata": {
    "collapsed": true
   },
   "outputs": [],
   "source": []
  },
  {
   "cell_type": "code",
   "execution_count": null,
   "metadata": {
    "collapsed": true
   },
   "outputs": [],
   "source": []
  },
  {
   "cell_type": "code",
   "execution_count": null,
   "metadata": {
    "collapsed": true
   },
   "outputs": [],
   "source": []
  },
  {
   "cell_type": "code",
   "execution_count": null,
   "metadata": {
    "collapsed": true
   },
   "outputs": [],
   "source": []
  },
  {
   "cell_type": "code",
   "execution_count": null,
   "metadata": {
    "collapsed": true
   },
   "outputs": [],
   "source": []
  },
  {
   "cell_type": "code",
   "execution_count": null,
   "metadata": {
    "collapsed": true
   },
   "outputs": [],
   "source": []
  }
 ],
 "metadata": {
  "kernelspec": {
   "display_name": "Python 3",
   "language": "python",
   "name": "python3"
  },
  "language_info": {
   "codemirror_mode": {
    "name": "ipython",
    "version": 3
   },
   "file_extension": ".py",
   "mimetype": "text/x-python",
   "name": "python",
   "nbconvert_exporter": "python",
   "pygments_lexer": "ipython3",
   "version": "3.6.0"
  }
 },
 "nbformat": 4,
 "nbformat_minor": 2
}
